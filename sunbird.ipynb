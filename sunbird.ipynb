{
 "cells": [
  {
   "cell_type": "code",
   "execution_count": 102,
   "id": "ddde6a75",
   "metadata": {
    "lines_to_next_cell": 1
   },
   "outputs": [],
   "source": [
    "from __future__ import annotations\n",
    "\n",
    "import concurrent.futures\n",
    "import pickle\n",
    "from pathlib import Path\n",
    "from typing import TYPE_CHECKING\n",
    "\n",
    "if TYPE_CHECKING:\n",
    "    from data import DataPoint"
   ]
  },
  {
   "cell_type": "markdown",
   "id": "34a7abf1-0d9d-4e22-abb5-d48ca88d876d",
   "metadata": {},
   "source": [
    "# load generated data"
   ]
  },
  {
   "cell_type": "code",
   "execution_count": 7,
   "id": "0d60dc33",
   "metadata": {},
   "outputs": [],
   "source": [
    "def from_pickle(input_file: str) -> list[DataPoint]:\n",
    "    with Path(input_file).open(\"rb\") as file:\n",
    "        return list(pickle.load(file))\n",
    "\n",
    "\n",
    "train: list[DataPoint] = from_pickle(\"dataset/train_compiled.pkl\")\n",
    "test: list[DataPoint] = from_pickle(\"dataset/test_compiled.pkl\")"
   ]
  },
  {
   "cell_type": "code",
   "execution_count": 8,
   "id": "268aaf37-84e9-48c0-acf1-1ad6524d9db4",
   "metadata": {},
   "outputs": [
    {
     "name": "stdout",
     "output_type": "stream",
     "text": [
      "training with 323184 C snippets compiled to 2481055 assembly snippets\n"
     ]
    }
   ],
   "source": [
    "num_c_snippets: int = len(train) # 300m tokens\n",
    "num_asm_snippets: int = sum(len(dp.asm) for dp in train) # 2.5b tokens\n",
    "\n",
    "print(f\"training with {num_c_snippets} C snippets compiled to {num_asm_snippets} assembly snippets\")"
   ]
  },
  {
   "cell_type": "markdown",
   "id": "57ab6083-2f13-4cbe-9ce1-867493f99dfc",
   "metadata": {},
   "source": [
    "# build vocabulary"
   ]
  },
  {
   "cell_type": "code",
   "execution_count": 104,
   "id": "454365cb-5c15-47c6-9993-f422b960b1b6",
   "metadata": {},
   "outputs": [],
   "source": [
    "unique_c_types = set()\n",
    "unique_c_text = set()\n",
    "\n",
    "unique_asm_types = set()\n",
    "unique_asm_text = set()\n",
    "\n",
    "\n",
    "def unique_tokens_from(dp: DataPoint) -> tuple[set[str], set[str], set[str], set[str]]:\n",
    "    c_types = set()\n",
    "    c_text = set()\n",
    "    asm_types = set()\n",
    "    asm_text = set()\n",
    "\n",
    "    for (typ, txt) in dp.c_code.as_tokens():\n",
    "        c_types.add(typ)\n",
    "        c_text.add(txt)\n",
    "\n",
    "    for (typ, txt) in [pair for asm_code in dp.asm for pair in asm_code.as_tokens()]:\n",
    "        asm_types.add(typ)\n",
    "        asm_text.add(txt)\n",
    "\n",
    "    return c_types, c_text, asm_types, asm_text\n",
    "\n",
    "\n",
    "with concurrent.futures.ThreadPoolExecutor() as executor:\n",
    "    results = list(executor.map(unique_tokens_from, test))\n",
    "\n",
    "for c_types, c_text, asm_types, asm_text in results:\n",
    "    unique_c_types.update(c_types)\n",
    "    unique_c_text.update(c_text)\n",
    "    unique_asm_types.update(asm_types)\n",
    "    unique_asm_text.update(asm_text)"
   ]
  },
  {
   "cell_type": "code",
   "execution_count": 109,
   "id": "e3583024-818d-4c83-8d96-8e4637aa9a44",
   "metadata": {},
   "outputs": [
    {
     "name": "stdout",
     "output_type": "stream",
     "text": [
      "100\n",
      "21038\n",
      "22\n",
      "44671\n"
     ]
    }
   ],
   "source": [
    "print(len(unique_c_types))\n",
    "print(len(unique_c_text))\n",
    "print(len(unique_asm_types))\n",
    "print(len(unique_asm_text))"
   ]
  }
 ],
 "metadata": {
  "kernelspec": {
   "display_name": "Python 3 (ipykernel)",
   "language": "python",
   "name": "python3"
  },
  "language_info": {
   "codemirror_mode": {
    "name": "ipython",
    "version": 3
   },
   "file_extension": ".py",
   "mimetype": "text/x-python",
   "name": "python",
   "nbconvert_exporter": "python",
   "pygments_lexer": "ipython3",
   "version": "3.12.3"
  }
 },
 "nbformat": 4,
 "nbformat_minor": 5
}
